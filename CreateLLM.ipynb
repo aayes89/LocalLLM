{
 "cells": [
  {
   "cell_type": "code",
   "execution_count": 1,
   "id": "c07af61d-cf43-43d2-bb30-99dc95b2ee95",
   "metadata": {},
   "outputs": [
    {
     "name": "stdout",
     "output_type": "stream",
     "text": [
      "Modelo cargado, continuando entrenamiento desde la época: 18\n"
     ]
    }
   ],
   "source": [
    "import torch\n",
    "import torch.nn as nn\n",
    "import torch.optim as optim\n",
    "from collections import Counter\n",
    "from torch.utils.data import Dataset, DataLoader\n",
    "import os  # Para verificar si el archivo del modelo existe\n",
    "\n",
    "class SimpleLM(nn.Module):\n",
    "    def __init__(self, vocab_size, embedding_dim, hidden_dim):\n",
    "        super(SimpleLM, self).__init__()\n",
    "        self.embedding = nn.Embedding(vocab_size, embedding_dim)\n",
    "        self.lstm = nn.LSTM(embedding_dim, hidden_dim, batch_first=True)\n",
    "        self.fc = nn.Linear(hidden_dim, vocab_size)\n",
    "\n",
    "    def forward(self, x):\n",
    "        x = self.embedding(x)\n",
    "        out, _ = self.lstm(x)\n",
    "        out = self.fc(out[:, -1, :])\n",
    "        return out\n",
    "\n",
    "class TextDataset(Dataset):\n",
    "    def __init__(self, filepath, vocab_size=1000):\n",
    "        self.vocab = self.build_vocab(filepath, vocab_size)\n",
    "        self.data = self.load_data(filepath)\n",
    "\n",
    "    def build_vocab(self, filepath, vocab_size):\n",
    "        with open(filepath, 'r', encoding='utf-8') as file:\n",
    "            text = file.read()\n",
    "        words = text.split()\n",
    "        word_counts = Counter(words)\n",
    "        most_common = word_counts.most_common(vocab_size - 1)\n",
    "        vocab = {word: idx for idx, (word, _) in enumerate(most_common, start=1)}\n",
    "        vocab['<UNK>'] = 0\n",
    "        return vocab\n",
    "\n",
    "    def load_data(self, filepath):\n",
    "        with open(filepath, 'r', encoding='utf-8') as file:\n",
    "            text = file.read()\n",
    "        words = text.split()\n",
    "        return [self.vocab.get(word, 0) for word in words]\n",
    "\n",
    "    def __len__(self):\n",
    "        return len(self.data) - 1\n",
    "\n",
    "    def __getitem__(self, idx):\n",
    "        return (torch.tensor(self.data[idx:idx+1]), torch.tensor(self.data[idx+1]))\n",
    "\n",
    "# Definir hiperparámetros\n",
    "vocab_size = 1000\n",
    "embedding_dim = 128\n",
    "hidden_dim = 256\n",
    "learning_rate = 0.001\n",
    "num_epochs = 2\n",
    "batch_size = 32\n",
    "\n",
    "# Crear el conjunto de datos\n",
    "full_path = \"/ruta/del/modelo/\"\n",
    "dataset = TextDataset(full_path + 'dict.txt', vocab_size)\n",
    "data_loader = DataLoader(dataset, batch_size=batch_size, shuffle=True)\n",
    "\n",
    "# Inicializar el modelo, la función de pérdida y el optimizador\n",
    "model = SimpleLM(vocab_size, embedding_dim, hidden_dim)\n",
    "criterion = nn.CrossEntropyLoss()\n",
    "optimizer = optim.Adam(model.parameters(), lr=learning_rate)\n",
    "\n",
    "# Cargar modelo y optimizador si existe\n",
    "model_path = full_path + \"simple_lm_model.pth\"\n",
    "if os.path.exists(model_path):\n",
    "    checkpoint = torch.load(model_path)\n",
    "    model.load_state_dict(checkpoint['model_state_dict'])\n",
    "    optimizer.load_state_dict(checkpoint['optimizer_state_dict'])\n",
    "    num_epochs = checkpoint['epoch'] + num_epochs  # Continuar desde el último epoch\n",
    "    print(\"Modelo cargado, continuando entrenamiento desde la época:\", checkpoint['epoch'])\n",
    "\n"
   ]
  },
  {
   "cell_type": "code",
   "execution_count": null,
   "id": "97d6a173-a3f4-41b7-b8b4-a91c6b6fdd33",
   "metadata": {},
   "outputs": [
    {
     "name": "stdout",
     "output_type": "stream",
     "text": [
      "Epoch 1, Loss: 0.9191245425037399\n"
     ]
    }
   ],
   "source": [
    "# Ciclo de entrenamiento\n",
    "model.train()\n",
    "for epoch in range(num_epochs):\n",
    "    total_loss = 0\n",
    "    for inputs, targets in data_loader:\n",
    "        optimizer.zero_grad()\n",
    "        \n",
    "        outputs = model(inputs)\n",
    "        outputs = outputs.view(-1, vocab_size)\n",
    "        \n",
    "        loss = criterion(outputs, targets.view(-1))\n",
    "        loss.backward()\n",
    "        optimizer.step()\n",
    "        \n",
    "        total_loss += loss.item()\n",
    "    \n",
    "    print(f'Epoch {epoch+1}, Loss: {total_loss / len(data_loader)}')\n",
    "\n"
   ]
  },
  {
   "cell_type": "code",
   "execution_count": null,
   "id": "157f4626-638a-4155-8091-47310d193ffb",
   "metadata": {},
   "outputs": [],
   "source": [
    "# Guardar el modelo\n",
    "torch.save({\n",
    "    'epoch': epoch,\n",
    "    'model_state_dict': model.state_dict(),\n",
    "    'optimizer_state_dict': optimizer.state_dict(),\n",
    "}, model_path)\n",
    "\n"
   ]
  },
  {
   "cell_type": "code",
   "execution_count": null,
   "id": "35a998e8-9d55-4173-8014-1a7c8674afb0",
   "metadata": {},
   "outputs": [],
   "source": [
    "# Generar texto\n",
    "model.eval()\n",
    "start_token = torch.tensor([[dataset.vocab['<UNK>']]], dtype=torch.long)\n",
    "generated_text = []\n",
    "\n",
    "for _ in range(512):\n",
    "    with torch.no_grad():\n",
    "        output = model(start_token)\n",
    "        probs = torch.softmax(output, dim=-1)\n",
    "        next_token = torch.multinomial(probs, 1)\n",
    "        generated_text.append(next_token.item())\n",
    "\n",
    "# Decodificar los tokens generados a texto\n",
    "inverse_vocab = {idx: word for word, idx in dataset.vocab.items()}\n",
    "generated_words = [inverse_vocab.get(token, '<UNK>') for token in generated_text]\n",
    "generated_sentence = ' '.join(generated_words)\n",
    "\n",
    "print(\"Generated Text:\", generated_sentence)\n"
   ]
  }
 ],
 "metadata": {
  "kernelspec": {
   "display_name": "Python 3 (ipykernel)",
   "language": "python",
   "name": "python3"
  },
  "language_info": {
   "codemirror_mode": {
    "name": "ipython",
    "version": 3
   },
   "file_extension": ".py",
   "mimetype": "text/x-python",
   "name": "python",
   "nbconvert_exporter": "python",
   "pygments_lexer": "ipython3",
   "version": "3.12.1"
  }
 },
 "nbformat": 4,
 "nbformat_minor": 5
}
